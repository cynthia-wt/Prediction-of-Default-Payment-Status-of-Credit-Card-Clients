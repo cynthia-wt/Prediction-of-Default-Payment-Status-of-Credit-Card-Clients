{
 "cells": [
  {
   "cell_type": "markdown",
   "metadata": {},
   "source": [
    "#### Import libraries"
   ]
  },
  {
   "cell_type": "code",
   "execution_count": 24,
   "metadata": {},
   "outputs": [],
   "source": [
    "import pandas as pd\n",
    "from sklearn.model_selection import train_test_split\n",
    "from sklearn.linear_model import LogisticRegression\n",
    "from sklearn.metrics import accuracy_score\n",
    "from sklearn.metrics import f1_score\n",
    "from sklearn import datasets\n",
    "from sklearn.feature_selection import RFE\n",
    "from time import time\n",
    "from sklearn.metrics import confusion_matrix\n",
    "import seaborn as sn\n",
    "import matplotlib.pyplot as plt\n",
    "from sklearn.metrics import classification_report\n",
    "from sklearn.utils import resample\n",
    "from sklearn.ensemble import RandomForestClassifier\n",
    "import numpy as np"
   ]
  },
  {
   "cell_type": "code",
   "execution_count": 2,
   "metadata": {},
   "outputs": [
    {
     "data": {
      "text/html": [
       "<div>\n",
       "<style scoped>\n",
       "    .dataframe tbody tr th:only-of-type {\n",
       "        vertical-align: middle;\n",
       "    }\n",
       "\n",
       "    .dataframe tbody tr th {\n",
       "        vertical-align: top;\n",
       "    }\n",
       "\n",
       "    .dataframe thead th {\n",
       "        text-align: right;\n",
       "    }\n",
       "</style>\n",
       "<table border=\"1\" class=\"dataframe\">\n",
       "  <thead>\n",
       "    <tr style=\"text-align: right;\">\n",
       "      <th></th>\n",
       "      <th>GENDER</th>\n",
       "      <th>LIMIT_BAL</th>\n",
       "      <th>EDUCATION</th>\n",
       "      <th>MARRIAGE</th>\n",
       "      <th>AGE</th>\n",
       "      <th>PAY_1</th>\n",
       "      <th>PAY_2</th>\n",
       "      <th>PAY_3</th>\n",
       "      <th>PAY_4</th>\n",
       "      <th>PAY_5</th>\n",
       "      <th>PAY_6</th>\n",
       "      <th>BILL_AMT4</th>\n",
       "      <th>PAY_AMT1</th>\n",
       "      <th>PAY_AMT2</th>\n",
       "      <th>PAY_AMT3</th>\n",
       "      <th>PAY_AMT4</th>\n",
       "      <th>PAY_AMT5</th>\n",
       "      <th>PAY_AMT6</th>\n",
       "      <th>default payment next month</th>\n",
       "    </tr>\n",
       "  </thead>\n",
       "  <tbody>\n",
       "    <tr>\n",
       "      <td>0</td>\n",
       "      <td>2</td>\n",
       "      <td>0.012658</td>\n",
       "      <td>2</td>\n",
       "      <td>1</td>\n",
       "      <td>24</td>\n",
       "      <td>2</td>\n",
       "      <td>2</td>\n",
       "      <td>-1</td>\n",
       "      <td>-1</td>\n",
       "      <td>0</td>\n",
       "      <td>0</td>\n",
       "      <td>0.122080</td>\n",
       "      <td>0.000000</td>\n",
       "      <td>0.005698</td>\n",
       "      <td>0.000000</td>\n",
       "      <td>0.000000</td>\n",
       "      <td>0.000000</td>\n",
       "      <td>0.000000</td>\n",
       "      <td>1</td>\n",
       "    </tr>\n",
       "    <tr>\n",
       "      <td>1</td>\n",
       "      <td>2</td>\n",
       "      <td>0.139241</td>\n",
       "      <td>2</td>\n",
       "      <td>2</td>\n",
       "      <td>26</td>\n",
       "      <td>-1</td>\n",
       "      <td>2</td>\n",
       "      <td>0</td>\n",
       "      <td>0</td>\n",
       "      <td>0</td>\n",
       "      <td>2</td>\n",
       "      <td>0.129971</td>\n",
       "      <td>0.000000</td>\n",
       "      <td>0.008269</td>\n",
       "      <td>0.010753</td>\n",
       "      <td>0.012048</td>\n",
       "      <td>0.000000</td>\n",
       "      <td>0.021277</td>\n",
       "      <td>1</td>\n",
       "    </tr>\n",
       "    <tr>\n",
       "      <td>2</td>\n",
       "      <td>2</td>\n",
       "      <td>0.101266</td>\n",
       "      <td>2</td>\n",
       "      <td>2</td>\n",
       "      <td>34</td>\n",
       "      <td>0</td>\n",
       "      <td>0</td>\n",
       "      <td>0</td>\n",
       "      <td>0</td>\n",
       "      <td>0</td>\n",
       "      <td>0</td>\n",
       "      <td>0.156644</td>\n",
       "      <td>0.017250</td>\n",
       "      <td>0.012404</td>\n",
       "      <td>0.010753</td>\n",
       "      <td>0.012048</td>\n",
       "      <td>0.012341</td>\n",
       "      <td>0.053191</td>\n",
       "      <td>0</td>\n",
       "    </tr>\n",
       "    <tr>\n",
       "      <td>3</td>\n",
       "      <td>2</td>\n",
       "      <td>0.050633</td>\n",
       "      <td>2</td>\n",
       "      <td>1</td>\n",
       "      <td>37</td>\n",
       "      <td>0</td>\n",
       "      <td>0</td>\n",
       "      <td>0</td>\n",
       "      <td>0</td>\n",
       "      <td>0</td>\n",
       "      <td>0</td>\n",
       "      <td>0.190369</td>\n",
       "      <td>0.022728</td>\n",
       "      <td>0.016696</td>\n",
       "      <td>0.012903</td>\n",
       "      <td>0.013253</td>\n",
       "      <td>0.013192</td>\n",
       "      <td>0.010638</td>\n",
       "      <td>0</td>\n",
       "    </tr>\n",
       "    <tr>\n",
       "      <td>4</td>\n",
       "      <td>1</td>\n",
       "      <td>0.050633</td>\n",
       "      <td>2</td>\n",
       "      <td>1</td>\n",
       "      <td>57</td>\n",
       "      <td>-1</td>\n",
       "      <td>0</td>\n",
       "      <td>-1</td>\n",
       "      <td>0</td>\n",
       "      <td>0</td>\n",
       "      <td>0</td>\n",
       "      <td>0.172584</td>\n",
       "      <td>0.022728</td>\n",
       "      <td>0.303332</td>\n",
       "      <td>0.107527</td>\n",
       "      <td>0.108434</td>\n",
       "      <td>0.008503</td>\n",
       "      <td>0.007223</td>\n",
       "      <td>0</td>\n",
       "    </tr>\n",
       "    <tr>\n",
       "      <td>...</td>\n",
       "      <td>...</td>\n",
       "      <td>...</td>\n",
       "      <td>...</td>\n",
       "      <td>...</td>\n",
       "      <td>...</td>\n",
       "      <td>...</td>\n",
       "      <td>...</td>\n",
       "      <td>...</td>\n",
       "      <td>...</td>\n",
       "      <td>...</td>\n",
       "      <td>...</td>\n",
       "      <td>...</td>\n",
       "      <td>...</td>\n",
       "      <td>...</td>\n",
       "      <td>...</td>\n",
       "      <td>...</td>\n",
       "      <td>...</td>\n",
       "      <td>...</td>\n",
       "      <td>...</td>\n",
       "    </tr>\n",
       "    <tr>\n",
       "      <td>28662</td>\n",
       "      <td>1</td>\n",
       "      <td>0.265823</td>\n",
       "      <td>3</td>\n",
       "      <td>1</td>\n",
       "      <td>39</td>\n",
       "      <td>0</td>\n",
       "      <td>0</td>\n",
       "      <td>0</td>\n",
       "      <td>0</td>\n",
       "      <td>0</td>\n",
       "      <td>0</td>\n",
       "      <td>0.334334</td>\n",
       "      <td>0.096593</td>\n",
       "      <td>0.165389</td>\n",
       "      <td>0.053796</td>\n",
       "      <td>0.036711</td>\n",
       "      <td>0.061704</td>\n",
       "      <td>0.010638</td>\n",
       "      <td>0</td>\n",
       "    </tr>\n",
       "    <tr>\n",
       "      <td>28663</td>\n",
       "      <td>1</td>\n",
       "      <td>0.177215</td>\n",
       "      <td>3</td>\n",
       "      <td>2</td>\n",
       "      <td>43</td>\n",
       "      <td>-1</td>\n",
       "      <td>-1</td>\n",
       "      <td>-1</td>\n",
       "      <td>-1</td>\n",
       "      <td>0</td>\n",
       "      <td>0</td>\n",
       "      <td>0.143736</td>\n",
       "      <td>0.020875</td>\n",
       "      <td>0.029158</td>\n",
       "      <td>0.096753</td>\n",
       "      <td>0.001554</td>\n",
       "      <td>0.000000</td>\n",
       "      <td>0.000000</td>\n",
       "      <td>0</td>\n",
       "    </tr>\n",
       "    <tr>\n",
       "      <td>28664</td>\n",
       "      <td>1</td>\n",
       "      <td>0.025316</td>\n",
       "      <td>2</td>\n",
       "      <td>2</td>\n",
       "      <td>37</td>\n",
       "      <td>4</td>\n",
       "      <td>3</td>\n",
       "      <td>2</td>\n",
       "      <td>-1</td>\n",
       "      <td>0</td>\n",
       "      <td>0</td>\n",
       "      <td>0.172435</td>\n",
       "      <td>0.000000</td>\n",
       "      <td>0.000000</td>\n",
       "      <td>0.236559</td>\n",
       "      <td>0.050602</td>\n",
       "      <td>0.024682</td>\n",
       "      <td>0.032979</td>\n",
       "      <td>1</td>\n",
       "    </tr>\n",
       "    <tr>\n",
       "      <td>28665</td>\n",
       "      <td>1</td>\n",
       "      <td>0.088608</td>\n",
       "      <td>3</td>\n",
       "      <td>1</td>\n",
       "      <td>41</td>\n",
       "      <td>1</td>\n",
       "      <td>-1</td>\n",
       "      <td>0</td>\n",
       "      <td>0</td>\n",
       "      <td>0</td>\n",
       "      <td>-1</td>\n",
       "      <td>0.249364</td>\n",
       "      <td>0.976159</td>\n",
       "      <td>0.028191</td>\n",
       "      <td>0.012667</td>\n",
       "      <td>0.023205</td>\n",
       "      <td>0.653618</td>\n",
       "      <td>0.019191</td>\n",
       "      <td>1</td>\n",
       "    </tr>\n",
       "    <tr>\n",
       "      <td>28666</td>\n",
       "      <td>1</td>\n",
       "      <td>0.050633</td>\n",
       "      <td>2</td>\n",
       "      <td>1</td>\n",
       "      <td>46</td>\n",
       "      <td>0</td>\n",
       "      <td>0</td>\n",
       "      <td>0</td>\n",
       "      <td>0</td>\n",
       "      <td>0</td>\n",
       "      <td>0</td>\n",
       "      <td>0.210197</td>\n",
       "      <td>0.023614</td>\n",
       "      <td>0.014885</td>\n",
       "      <td>0.015376</td>\n",
       "      <td>0.012048</td>\n",
       "      <td>0.012341</td>\n",
       "      <td>0.010638</td>\n",
       "      <td>1</td>\n",
       "    </tr>\n",
       "  </tbody>\n",
       "</table>\n",
       "<p>28667 rows × 19 columns</p>\n",
       "</div>"
      ],
      "text/plain": [
       "       GENDER  LIMIT_BAL  EDUCATION  MARRIAGE  AGE  PAY_1  PAY_2  PAY_3  \\\n",
       "0           2   0.012658          2         1   24      2      2     -1   \n",
       "1           2   0.139241          2         2   26     -1      2      0   \n",
       "2           2   0.101266          2         2   34      0      0      0   \n",
       "3           2   0.050633          2         1   37      0      0      0   \n",
       "4           1   0.050633          2         1   57     -1      0     -1   \n",
       "...       ...        ...        ...       ...  ...    ...    ...    ...   \n",
       "28662       1   0.265823          3         1   39      0      0      0   \n",
       "28663       1   0.177215          3         2   43     -1     -1     -1   \n",
       "28664       1   0.025316          2         2   37      4      3      2   \n",
       "28665       1   0.088608          3         1   41      1     -1      0   \n",
       "28666       1   0.050633          2         1   46      0      0      0   \n",
       "\n",
       "       PAY_4  PAY_5  PAY_6  BILL_AMT4  PAY_AMT1  PAY_AMT2  PAY_AMT3  PAY_AMT4  \\\n",
       "0         -1      0      0   0.122080  0.000000  0.005698  0.000000  0.000000   \n",
       "1          0      0      2   0.129971  0.000000  0.008269  0.010753  0.012048   \n",
       "2          0      0      0   0.156644  0.017250  0.012404  0.010753  0.012048   \n",
       "3          0      0      0   0.190369  0.022728  0.016696  0.012903  0.013253   \n",
       "4          0      0      0   0.172584  0.022728  0.303332  0.107527  0.108434   \n",
       "...      ...    ...    ...        ...       ...       ...       ...       ...   \n",
       "28662      0      0      0   0.334334  0.096593  0.165389  0.053796  0.036711   \n",
       "28663     -1      0      0   0.143736  0.020875  0.029158  0.096753  0.001554   \n",
       "28664     -1      0      0   0.172435  0.000000  0.000000  0.236559  0.050602   \n",
       "28665      0      0     -1   0.249364  0.976159  0.028191  0.012667  0.023205   \n",
       "28666      0      0      0   0.210197  0.023614  0.014885  0.015376  0.012048   \n",
       "\n",
       "       PAY_AMT5  PAY_AMT6  default payment next month  \n",
       "0      0.000000  0.000000                           1  \n",
       "1      0.000000  0.021277                           1  \n",
       "2      0.012341  0.053191                           0  \n",
       "3      0.013192  0.010638                           0  \n",
       "4      0.008503  0.007223                           0  \n",
       "...         ...       ...                         ...  \n",
       "28662  0.061704  0.010638                           0  \n",
       "28663  0.000000  0.000000                           0  \n",
       "28664  0.024682  0.032979                           1  \n",
       "28665  0.653618  0.019191                           1  \n",
       "28666  0.012341  0.010638                           1  \n",
       "\n",
       "[28667 rows x 19 columns]"
      ]
     },
     "execution_count": 2,
     "metadata": {},
     "output_type": "execute_result"
    }
   ],
   "source": [
    "credit_card = pd.read_csv(r'\\Credit_Card_afterFeatureSelection.csv')\n",
    "\n",
    "# remove additional index column \n",
    "credit_card = credit_card.drop(['Unnamed: 0'], axis=1)\n",
    "\n",
    "credit_card"
   ]
  },
  {
   "cell_type": "markdown",
   "metadata": {},
   "source": [
    "## Logistic Regression Model"
   ]
  },
  {
   "cell_type": "code",
   "execution_count": 3,
   "metadata": {},
   "outputs": [
    {
     "name": "stderr",
     "output_type": "stream",
     "text": [
      "/opt/conda/lib/python3.7/site-packages/sklearn/linear_model/logistic.py:432: FutureWarning: Default solver will be changed to 'lbfgs' in 0.22. Specify a solver to silence this warning.\n",
      "  FutureWarning)\n"
     ]
    },
    {
     "name": "stdout",
     "output_type": "stream",
     "text": [
      "Train Accuracy ::  0.8117559848253608\n",
      "Test Accuracy  ::  0.8031042901988141\n",
      "F1 score  ::  0.39005942733657484\n"
     ]
    }
   ],
   "source": [
    "# Define X and y \n",
    "y = credit_card.iloc[:,18] \n",
    "X = credit_card.iloc[:,0:18] \n",
    "\n",
    "# split the dataset \n",
    "X_train, X_valid, y_train, y_valid = train_test_split(X, y, train_size=0.8, test_size=0.2,\n",
    "                                                      random_state=0)\n",
    "\n",
    "# train the model\n",
    "logR=LogisticRegression()\n",
    "logR.fit(X_train,y_train)\n",
    "y_predict=logR.predict(X_valid)\n",
    "\n",
    "# Train and Test Accuracy   \n",
    "print(\"Train Accuracy :: \", accuracy_score(y_train, logR.predict(X_train)))\n",
    "print(\"Test Accuracy  :: \", accuracy_score(y_valid, y_predict))\n",
    "\n",
    "# calculation of f1 score\n",
    "print(\"F1 score  :: \", f1_score(y_valid, y_predict))"
   ]
  },
  {
   "cell_type": "markdown",
   "metadata": {},
   "source": [
    "### Optimizing model's parameters"
   ]
  },
  {
   "cell_type": "code",
   "execution_count": 4,
   "metadata": {},
   "outputs": [
    {
     "name": "stdout",
     "output_type": "stream",
     "text": [
      "Parameters currently in use:\n",
      "\n",
      "{'C': 1.0, 'class_weight': None, 'dual': False, 'fit_intercept': True, 'intercept_scaling': 1, 'l1_ratio': None, 'max_iter': 100, 'multi_class': 'warn', 'n_jobs': None, 'penalty': 'l2', 'random_state': None, 'solver': 'warn', 'tol': 0.0001, 'verbose': 0, 'warm_start': False}\n"
     ]
    }
   ],
   "source": [
    "# Look at the parameters used by our current forest\n",
    "print('Parameters currently in use:\\n')\n",
    "print(logR.get_params())"
   ]
  },
  {
   "cell_type": "markdown",
   "metadata": {},
   "source": [
    "<img src=\"./LOGR Model Tunning.JPG\" width=\"1000\" height=\"1000\" />"
   ]
  },
  {
   "cell_type": "markdown",
   "metadata": {},
   "source": [
    "<img src=\"./LOGR Model Tunning_Output.JPG\" width=\"1000\" height=\"1000\" />"
   ]
  },
  {
   "cell_type": "markdown",
   "metadata": {},
   "source": [
    "Since the best combination is as shown above (the default parameters), no change in parameters is required."
   ]
  },
  {
   "cell_type": "markdown",
   "metadata": {},
   "source": [
    "### Feature reduction to further improve model's performance"
   ]
  },
  {
   "cell_type": "code",
   "execution_count": 5,
   "metadata": {},
   "outputs": [
    {
     "name": "stdout",
     "output_type": "stream",
     "text": [
      "[12  3 17 10 18  6 14  9 16 11 15 13  2  1  4  8  5  7]\n",
      "\n",
      "Index(['GENDER', 'LIMIT_BAL', 'EDUCATION', 'MARRIAGE', 'AGE', 'PAY_1', 'PAY_2',\n",
      "       'PAY_3', 'PAY_4', 'PAY_5', 'PAY_6', 'BILL_AMT4', 'PAY_AMT1', 'PAY_AMT2',\n",
      "       'PAY_AMT3', 'PAY_AMT4', 'PAY_AMT5', 'PAY_AMT6',\n",
      "       'default payment next month'],\n",
      "      dtype='object')\n"
     ]
    }
   ],
   "source": [
    "# create a base classifier used to evaluate a subset of attributes\n",
    "model = LogisticRegression(solver='liblinear')\n",
    "\n",
    "# create the RFE model and select 1 attributes\n",
    "rfe = RFE(model,1)\n",
    "rfe = rfe.fit(X_train, y_train)\n",
    "\n",
    "# summarize the selection of the attributes\n",
    "print(rfe.ranking_)\n",
    "print()\n",
    "print(credit_card.columns)"
   ]
  },
  {
   "cell_type": "markdown",
   "metadata": {},
   "source": [
    "#### Drop AGE (lowest rfe ranking)"
   ]
  },
  {
   "cell_type": "code",
   "execution_count": 6,
   "metadata": {},
   "outputs": [
    {
     "name": "stdout",
     "output_type": "stream",
     "text": [
      "Train Accuracy :: 0.8115815636855187\n",
      "Test Accuracy  :: 0.8025810952214859\n",
      "F1 score  ::  0.38545059717698155\n"
     ]
    }
   ],
   "source": [
    "credit_card1 = credit_card.drop(['AGE'], axis=1)\n",
    "\n",
    "# Define X and y \n",
    "\n",
    "y = credit_card1.iloc[:,17] \n",
    "X = credit_card1.iloc[:,0:17] \n",
    "\n",
    "# split the dataset \n",
    "X_train, X_valid, y_train, y_valid = train_test_split(X, y, train_size=0.8, test_size=0.2,\n",
    "                                                      random_state=0)\n",
    "\n",
    "logR = LogisticRegression(solver='liblinear')\n",
    "logR.fit(X_train, y_train)\n",
    "y_predict = logR.predict(X_valid)\n",
    "\n",
    "# calculation of accuracy score\n",
    "print(\"Train Accuracy ::\", accuracy_score(y_train, logR.predict(X_train)))\n",
    "print(\"Test Accuracy  ::\", accuracy_score(y_valid, y_predict))\n",
    "\n",
    "# calculation of f1 score\n",
    "print(\"F1 score  :: \", f1_score(y_valid, y_predict))"
   ]
  },
  {
   "cell_type": "markdown",
   "metadata": {},
   "source": [
    "#### Slight decrease in both accuracy and F1 score is observed, hence we decided to not drop any features."
   ]
  },
  {
   "cell_type": "markdown",
   "metadata": {},
   "source": [
    "### Resampling to improve F1 score\n",
    "\n",
    "Since our dataset is highly skewed, due to only 23% of default payment status = 1, we decided to conduct resampling to improve the class imbalance.\n",
    "- We will not be trying downsampling of the majority class as that will lead to loss of a large number of data points.\n",
    "\n",
    "We will be conducting resampling on our training dataset, hence we will be conducting resampling after splitting. We will be upsampling our minority class (Default Payment Status = 1) such that Default Payment Status = 0 and 1 has the same number of datapoints.\n",
    "\n",
    "Reason for conducting upsampling of ONLY our training set: To avoid having the same exact observations (since resampling() works by duplication of data points) in our training set and testing set which can lead to high accuracy score for our dataset but poor accuracy when our algorithm is put to work since the model can simply memorize the specific data points in our dataset."
   ]
  },
  {
   "cell_type": "code",
   "execution_count": 7,
   "metadata": {},
   "outputs": [],
   "source": [
    "# Define X and y \n",
    "y = credit_card.iloc[:,18] \n",
    "X = credit_card.iloc[:,0:18] \n",
    "\n",
    "# split the dataset \n",
    "X_train, X_valid, y_train, y_valid = train_test_split(X, y, train_size=0.8, test_size=0.2,\n",
    "                                                      random_state=0)"
   ]
  },
  {
   "cell_type": "code",
   "execution_count": 8,
   "metadata": {},
   "outputs": [
    {
     "data": {
      "text/html": [
       "<div>\n",
       "<style scoped>\n",
       "    .dataframe tbody tr th:only-of-type {\n",
       "        vertical-align: middle;\n",
       "    }\n",
       "\n",
       "    .dataframe tbody tr th {\n",
       "        vertical-align: top;\n",
       "    }\n",
       "\n",
       "    .dataframe thead th {\n",
       "        text-align: right;\n",
       "    }\n",
       "</style>\n",
       "<table border=\"1\" class=\"dataframe\">\n",
       "  <thead>\n",
       "    <tr style=\"text-align: right;\">\n",
       "      <th></th>\n",
       "      <th>GENDER</th>\n",
       "      <th>LIMIT_BAL</th>\n",
       "      <th>EDUCATION</th>\n",
       "      <th>MARRIAGE</th>\n",
       "      <th>AGE</th>\n",
       "      <th>PAY_1</th>\n",
       "      <th>PAY_2</th>\n",
       "      <th>PAY_3</th>\n",
       "      <th>PAY_4</th>\n",
       "      <th>PAY_5</th>\n",
       "      <th>PAY_6</th>\n",
       "      <th>BILL_AMT4</th>\n",
       "      <th>PAY_AMT1</th>\n",
       "      <th>PAY_AMT2</th>\n",
       "      <th>PAY_AMT3</th>\n",
       "      <th>PAY_AMT4</th>\n",
       "      <th>PAY_AMT5</th>\n",
       "      <th>PAY_AMT6</th>\n",
       "      <th>default payment next month</th>\n",
       "    </tr>\n",
       "  </thead>\n",
       "  <tbody>\n",
       "    <tr>\n",
       "      <td>0</td>\n",
       "      <td>2</td>\n",
       "      <td>0.291139</td>\n",
       "      <td>2</td>\n",
       "      <td>1</td>\n",
       "      <td>42</td>\n",
       "      <td>-1</td>\n",
       "      <td>-1</td>\n",
       "      <td>-1</td>\n",
       "      <td>-1</td>\n",
       "      <td>-1</td>\n",
       "      <td>-1</td>\n",
       "      <td>0.123604</td>\n",
       "      <td>0.000000</td>\n",
       "      <td>0.002613</td>\n",
       "      <td>0.006796</td>\n",
       "      <td>0.000000</td>\n",
       "      <td>0.003900</td>\n",
       "      <td>0.010085</td>\n",
       "      <td>0</td>\n",
       "    </tr>\n",
       "    <tr>\n",
       "      <td>1</td>\n",
       "      <td>2</td>\n",
       "      <td>0.164557</td>\n",
       "      <td>2</td>\n",
       "      <td>1</td>\n",
       "      <td>26</td>\n",
       "      <td>0</td>\n",
       "      <td>0</td>\n",
       "      <td>0</td>\n",
       "      <td>2</td>\n",
       "      <td>2</td>\n",
       "      <td>2</td>\n",
       "      <td>0.198618</td>\n",
       "      <td>0.227278</td>\n",
       "      <td>0.024899</td>\n",
       "      <td>0.000000</td>\n",
       "      <td>0.036145</td>\n",
       "      <td>0.000000</td>\n",
       "      <td>0.053191</td>\n",
       "      <td>0</td>\n",
       "    </tr>\n",
       "    <tr>\n",
       "      <td>2</td>\n",
       "      <td>2</td>\n",
       "      <td>0.443038</td>\n",
       "      <td>1</td>\n",
       "      <td>2</td>\n",
       "      <td>30</td>\n",
       "      <td>0</td>\n",
       "      <td>0</td>\n",
       "      <td>0</td>\n",
       "      <td>0</td>\n",
       "      <td>0</td>\n",
       "      <td>0</td>\n",
       "      <td>0.122080</td>\n",
       "      <td>0.000000</td>\n",
       "      <td>0.000000</td>\n",
       "      <td>0.000000</td>\n",
       "      <td>0.000000</td>\n",
       "      <td>0.000000</td>\n",
       "      <td>0.000000</td>\n",
       "      <td>0</td>\n",
       "    </tr>\n",
       "    <tr>\n",
       "      <td>3</td>\n",
       "      <td>1</td>\n",
       "      <td>0.025316</td>\n",
       "      <td>2</td>\n",
       "      <td>1</td>\n",
       "      <td>49</td>\n",
       "      <td>0</td>\n",
       "      <td>0</td>\n",
       "      <td>2</td>\n",
       "      <td>2</td>\n",
       "      <td>0</td>\n",
       "      <td>0</td>\n",
       "      <td>0.160407</td>\n",
       "      <td>0.041933</td>\n",
       "      <td>0.008269</td>\n",
       "      <td>0.000000</td>\n",
       "      <td>0.007096</td>\n",
       "      <td>0.009330</td>\n",
       "      <td>0.015957</td>\n",
       "      <td>0</td>\n",
       "    </tr>\n",
       "    <tr>\n",
       "      <td>4</td>\n",
       "      <td>2</td>\n",
       "      <td>0.227848</td>\n",
       "      <td>2</td>\n",
       "      <td>1</td>\n",
       "      <td>34</td>\n",
       "      <td>1</td>\n",
       "      <td>0</td>\n",
       "      <td>0</td>\n",
       "      <td>0</td>\n",
       "      <td>0</td>\n",
       "      <td>0</td>\n",
       "      <td>0.122036</td>\n",
       "      <td>0.000000</td>\n",
       "      <td>0.000000</td>\n",
       "      <td>0.000000</td>\n",
       "      <td>0.000000</td>\n",
       "      <td>0.000000</td>\n",
       "      <td>0.000000</td>\n",
       "      <td>0</td>\n",
       "    </tr>\n",
       "    <tr>\n",
       "      <td>...</td>\n",
       "      <td>...</td>\n",
       "      <td>...</td>\n",
       "      <td>...</td>\n",
       "      <td>...</td>\n",
       "      <td>...</td>\n",
       "      <td>...</td>\n",
       "      <td>...</td>\n",
       "      <td>...</td>\n",
       "      <td>...</td>\n",
       "      <td>...</td>\n",
       "      <td>...</td>\n",
       "      <td>...</td>\n",
       "      <td>...</td>\n",
       "      <td>...</td>\n",
       "      <td>...</td>\n",
       "      <td>...</td>\n",
       "      <td>...</td>\n",
       "      <td>...</td>\n",
       "      <td>...</td>\n",
       "    </tr>\n",
       "    <tr>\n",
       "      <td>22928</td>\n",
       "      <td>2</td>\n",
       "      <td>0.000000</td>\n",
       "      <td>2</td>\n",
       "      <td>2</td>\n",
       "      <td>28</td>\n",
       "      <td>0</td>\n",
       "      <td>0</td>\n",
       "      <td>0</td>\n",
       "      <td>0</td>\n",
       "      <td>0</td>\n",
       "      <td>-1</td>\n",
       "      <td>0.145865</td>\n",
       "      <td>0.013955</td>\n",
       "      <td>0.008269</td>\n",
       "      <td>0.002118</td>\n",
       "      <td>0.019241</td>\n",
       "      <td>0.017647</td>\n",
       "      <td>0.012596</td>\n",
       "      <td>0</td>\n",
       "    </tr>\n",
       "    <tr>\n",
       "      <td>22929</td>\n",
       "      <td>1</td>\n",
       "      <td>0.189873</td>\n",
       "      <td>2</td>\n",
       "      <td>2</td>\n",
       "      <td>30</td>\n",
       "      <td>0</td>\n",
       "      <td>0</td>\n",
       "      <td>0</td>\n",
       "      <td>0</td>\n",
       "      <td>0</td>\n",
       "      <td>0</td>\n",
       "      <td>0.347269</td>\n",
       "      <td>0.085695</td>\n",
       "      <td>0.045482</td>\n",
       "      <td>0.045161</td>\n",
       "      <td>0.036530</td>\n",
       "      <td>0.049363</td>\n",
       "      <td>0.027755</td>\n",
       "      <td>0</td>\n",
       "    </tr>\n",
       "    <tr>\n",
       "      <td>22930</td>\n",
       "      <td>2</td>\n",
       "      <td>0.025316</td>\n",
       "      <td>3</td>\n",
       "      <td>1</td>\n",
       "      <td>35</td>\n",
       "      <td>0</td>\n",
       "      <td>0</td>\n",
       "      <td>0</td>\n",
       "      <td>0</td>\n",
       "      <td>0</td>\n",
       "      <td>0</td>\n",
       "      <td>0.176431</td>\n",
       "      <td>0.034092</td>\n",
       "      <td>0.025652</td>\n",
       "      <td>0.032344</td>\n",
       "      <td>0.037783</td>\n",
       "      <td>0.013612</td>\n",
       "      <td>0.000000</td>\n",
       "      <td>0</td>\n",
       "    </tr>\n",
       "    <tr>\n",
       "      <td>22931</td>\n",
       "      <td>1</td>\n",
       "      <td>0.012658</td>\n",
       "      <td>2</td>\n",
       "      <td>1</td>\n",
       "      <td>45</td>\n",
       "      <td>4</td>\n",
       "      <td>3</td>\n",
       "      <td>2</td>\n",
       "      <td>0</td>\n",
       "      <td>0</td>\n",
       "      <td>0</td>\n",
       "      <td>0.169352</td>\n",
       "      <td>0.000000</td>\n",
       "      <td>0.000000</td>\n",
       "      <td>0.000000</td>\n",
       "      <td>0.000000</td>\n",
       "      <td>0.004936</td>\n",
       "      <td>0.000000</td>\n",
       "      <td>0</td>\n",
       "    </tr>\n",
       "    <tr>\n",
       "      <td>22932</td>\n",
       "      <td>2</td>\n",
       "      <td>0.050633</td>\n",
       "      <td>1</td>\n",
       "      <td>2</td>\n",
       "      <td>25</td>\n",
       "      <td>0</td>\n",
       "      <td>0</td>\n",
       "      <td>0</td>\n",
       "      <td>0</td>\n",
       "      <td>0</td>\n",
       "      <td>0</td>\n",
       "      <td>0.155033</td>\n",
       "      <td>0.014773</td>\n",
       "      <td>0.012404</td>\n",
       "      <td>0.005376</td>\n",
       "      <td>0.012048</td>\n",
       "      <td>0.012341</td>\n",
       "      <td>0.010638</td>\n",
       "      <td>0</td>\n",
       "    </tr>\n",
       "  </tbody>\n",
       "</table>\n",
       "<p>22933 rows × 19 columns</p>\n",
       "</div>"
      ],
      "text/plain": [
       "       GENDER  LIMIT_BAL  EDUCATION  MARRIAGE  AGE  PAY_1  PAY_2  PAY_3  \\\n",
       "0           2   0.291139          2         1   42     -1     -1     -1   \n",
       "1           2   0.164557          2         1   26      0      0      0   \n",
       "2           2   0.443038          1         2   30      0      0      0   \n",
       "3           1   0.025316          2         1   49      0      0      2   \n",
       "4           2   0.227848          2         1   34      1      0      0   \n",
       "...       ...        ...        ...       ...  ...    ...    ...    ...   \n",
       "22928       2   0.000000          2         2   28      0      0      0   \n",
       "22929       1   0.189873          2         2   30      0      0      0   \n",
       "22930       2   0.025316          3         1   35      0      0      0   \n",
       "22931       1   0.012658          2         1   45      4      3      2   \n",
       "22932       2   0.050633          1         2   25      0      0      0   \n",
       "\n",
       "       PAY_4  PAY_5  PAY_6  BILL_AMT4  PAY_AMT1  PAY_AMT2  PAY_AMT3  PAY_AMT4  \\\n",
       "0         -1     -1     -1   0.123604  0.000000  0.002613  0.006796  0.000000   \n",
       "1          2      2      2   0.198618  0.227278  0.024899  0.000000  0.036145   \n",
       "2          0      0      0   0.122080  0.000000  0.000000  0.000000  0.000000   \n",
       "3          2      0      0   0.160407  0.041933  0.008269  0.000000  0.007096   \n",
       "4          0      0      0   0.122036  0.000000  0.000000  0.000000  0.000000   \n",
       "...      ...    ...    ...        ...       ...       ...       ...       ...   \n",
       "22928      0      0     -1   0.145865  0.013955  0.008269  0.002118  0.019241   \n",
       "22929      0      0      0   0.347269  0.085695  0.045482  0.045161  0.036530   \n",
       "22930      0      0      0   0.176431  0.034092  0.025652  0.032344  0.037783   \n",
       "22931      0      0      0   0.169352  0.000000  0.000000  0.000000  0.000000   \n",
       "22932      0      0      0   0.155033  0.014773  0.012404  0.005376  0.012048   \n",
       "\n",
       "       PAY_AMT5  PAY_AMT6  default payment next month  \n",
       "0      0.003900  0.010085                           0  \n",
       "1      0.000000  0.053191                           0  \n",
       "2      0.000000  0.000000                           0  \n",
       "3      0.009330  0.015957                           0  \n",
       "4      0.000000  0.000000                           0  \n",
       "...         ...       ...                         ...  \n",
       "22928  0.017647  0.012596                           0  \n",
       "22929  0.049363  0.027755                           0  \n",
       "22930  0.013612  0.000000                           0  \n",
       "22931  0.004936  0.000000                           0  \n",
       "22932  0.012341  0.010638                           0  \n",
       "\n",
       "[22933 rows x 19 columns]"
      ]
     },
     "execution_count": 8,
     "metadata": {},
     "output_type": "execute_result"
    }
   ],
   "source": [
    "# obtain the training set \n",
    "X_train = pd.DataFrame(X_train)\n",
    "X_train = X_train.reset_index()\n",
    "X_train = X_train.drop(['index'],axis=1)\n",
    "\n",
    "y_train = pd.DataFrame(y_train)\n",
    "y_train = y_train.reset_index()\n",
    "y_train = y_train.drop(['index'],axis=1)\n",
    "\n",
    "training_set = pd.concat([X_train, y_train], axis=1)\n",
    "training_set"
   ]
  },
  {
   "cell_type": "code",
   "execution_count": 9,
   "metadata": {},
   "outputs": [
    {
     "data": {
      "text/plain": [
       "1    17789\n",
       "0    17789\n",
       "Name: default payment next month, dtype: int64"
      ]
     },
     "execution_count": 9,
     "metadata": {},
     "output_type": "execute_result"
    }
   ],
   "source": [
    "# Separate majority and minority classes\n",
    "training_set_majority = training_set[training_set['default payment next month'] == 0]\n",
    "training_set_minority = training_set[training_set['default payment next month'] == 1]\n",
    "\n",
    "# Upsample minority class\n",
    "training_set_minority_upsampled = resample(training_set_minority, \n",
    "                                 replace=True,     # sample with replacement\n",
    "                                 n_samples=17789,    # to match majority class\n",
    "                                 random_state=123) # reproducible results\n",
    " \n",
    "# Combine majority class with upsampled minority class\n",
    "credit_card_upsampled = pd.concat([training_set_majority, training_set_minority_upsampled])\n",
    " \n",
    "# Display new class counts\n",
    "credit_card_upsampled['default payment next month'].value_counts()"
   ]
  },
  {
   "cell_type": "code",
   "execution_count": 10,
   "metadata": {},
   "outputs": [
    {
     "name": "stdout",
     "output_type": "stream",
     "text": [
      "Train Accuracy : 0.6953735454494351\n",
      "Test Accuracy  :  0.7343913498430416\n",
      "F1 score  ::  0.5047154471544716\n"
     ]
    }
   ],
   "source": [
    "# Redefine X_train and y_train\n",
    "y_train = credit_card_upsampled.iloc[:,18]\n",
    "X_train = credit_card_upsampled.iloc[:,0:18]\n",
    "\n",
    "# train the model\n",
    "logR = LogisticRegression(solver='liblinear')\n",
    "logR.fit(X_train, y_train)\n",
    "y_predict = logR.predict(X_valid)\n",
    "\n",
    "# calculation of accuracy score \n",
    "print(\"Train Accuracy :\", accuracy_score(y_train, logR.predict(X_train)))\n",
    "print(\"Test Accuracy  : \", accuracy_score(y_valid, y_predict))\n",
    "\n",
    "# calculation of F1 score\n",
    "print(\"F1 score  :: \", f1_score(y_valid, y_predict))"
   ]
  },
  {
   "cell_type": "markdown",
   "metadata": {},
   "source": [
    "Drop in accuracy level by approx. 12% and increase in f1_score by approx. 12%."
   ]
  },
  {
   "cell_type": "markdown",
   "metadata": {},
   "source": [
    "### Model Evaluation"
   ]
  },
  {
   "cell_type": "code",
   "execution_count": 11,
   "metadata": {},
   "outputs": [
    {
     "name": "stdout",
     "output_type": "stream",
     "text": [
      "Train Accuracy :  0.6953735454494351\n",
      "Test Accuracy  :  0.7343913498430416\n",
      "F1 score  ::  0.5047154471544716\n"
     ]
    }
   ],
   "source": [
    "print(\"Train Accuracy : \", accuracy_score(y_train, logR.predict(X_train)))\n",
    "print(\"Test Accuracy  : \", accuracy_score(y_valid, y_predict))\n",
    "print(\"F1 score  :: \", f1_score(y_valid, y_predict))"
   ]
  },
  {
   "cell_type": "code",
   "execution_count": 12,
   "metadata": {},
   "outputs": [
    {
     "name": "stdout",
     "output_type": "stream",
     "text": [
      "Trained model in 0.3817 seconds\n"
     ]
    }
   ],
   "source": [
    "start = time()\n",
    "logR = LogisticRegression(solver='liblinear')\n",
    "logR.fit(X_train, y_train)\n",
    "end = time()\n",
    "print(\"Trained model in {:.4f} seconds\".format(end - start))"
   ]
  },
  {
   "cell_type": "code",
   "execution_count": 13,
   "metadata": {},
   "outputs": [
    {
     "name": "stdout",
     "output_type": "stream",
     "text": [
      "Made predictions in 0.0040 seconds.\n"
     ]
    }
   ],
   "source": [
    "start = time()\n",
    "y_predict = logR.predict(X_valid)\n",
    "end = time()\n",
    "print(\"Made predictions in {:.4f} seconds.\".format(end - start))"
   ]
  },
  {
   "cell_type": "code",
   "execution_count": 14,
   "metadata": {},
   "outputs": [
    {
     "data": {
      "image/png": "[encoded data removed]",
      "text/plain": [
       "<Figure size 432x288 with 2 Axes>"
      ]
     },
     "metadata": {
      "needs_background": "light"
     },
     "output_type": "display_data"
    },
    {
     "name": "stdout",
     "output_type": "stream",
     "text": [
      "Predicted     0    1\n",
      "Actual              \n",
      "0          3435  986\n",
      "1           537  776\n"
     ]
    }
   ],
   "source": [
    "# confusion matrix\n",
    "ax= plt.subplot()\n",
    "confusion_matrix = pd.crosstab(y_valid, y_predict, rownames=['Actual'], colnames=['Predicted'])\n",
    "sn.heatmap(confusion_matrix, cmap=\"Blues\")\n",
    "    \n",
    "#change the labels\n",
    "ax.set_xlabel('Predicted Default Status')\n",
    "ax.set_ylabel('Actual Default Status')\n",
    "ax.set_title('Confusion Matrix')\n",
    "plt.savefig('RFC_confusion_matrix.jpg', bbox_inches=\"tight\")\n",
    "# save the figure for use in ppt\n",
    "plt.savefig('LogR_confusion_matrix.jpg')\n",
    "plt.show()\n",
    "\n",
    "print(confusion_matrix)"
   ]
  },
  {
   "cell_type": "code",
   "execution_count": 15,
   "metadata": {},
   "outputs": [
    {
     "name": "stdout",
     "output_type": "stream",
     "text": [
      "Accuracy:  0.7343913498430416\n",
      "Misclassification Rate:  0.2656086501569585\n",
      "True Positive Rate:  0.591012947448591\n",
      "False Positive Rate:  0.22302646460076905\n",
      "True Negative Rate (Specificity):  0.776973535399231\n",
      "Precision:  0.44040862656072643\n",
      "Prevalence:  0.22898500174398326\n",
      "\n",
      "              precision    recall  f1-score   support\n",
      "\n",
      "           0       0.86      0.78      0.82      4421\n",
      "           1       0.44      0.59      0.50      1313\n",
      "\n",
      "    accuracy                           0.73      5734\n",
      "   macro avg       0.65      0.68      0.66      5734\n",
      "weighted avg       0.77      0.73      0.75      5734\n",
      "\n"
     ]
    }
   ],
   "source": [
    "TN = 3435\n",
    "TP = 776\n",
    "FN = 537\n",
    "FP = 986\n",
    "\n",
    "total = TN + TP + FN + FP\n",
    "actual0 = TN + FP\n",
    "actual1 = TP + FN\n",
    "predicted1 = TP + FP\n",
    "\n",
    "print(\"Accuracy: \", (TP+TN)/total)\n",
    "print(\"Misclassification Rate: \",(FP+FN)/total)\n",
    "print(\"True Positive Rate: \",TP/actual1)\n",
    "print(\"False Positive Rate: \",FP/actual0)\n",
    "print(\"True Negative Rate (Specificity): \",TN/actual0)\n",
    "print(\"Precision: \", TP/predicted1)\n",
    "print(\"Prevalence: \", actual1/total)\n",
    "\n",
    "print()\n",
    "print(classification_report(y_valid, y_predict))"
   ]
  },
  {
   "cell_type": "code",
   "execution_count": 16,
   "metadata": {},
   "outputs": [
    {
     "name": "stdout",
     "output_type": "stream",
     "text": [
      "1 :  PAY_AMT2\n",
      "2 :  PAY_AMT1\n",
      "3 :  LIMIT_BAL\n",
      "4 :  PAY_AMT3\n",
      "5 :  PAY_AMT5\n"
     ]
    }
   ],
   "source": [
    "# create a base classifier used to evaluate a subset of attributes\n",
    "model = LogisticRegression(solver='liblinear')\n",
    "\n",
    "# create the RFE model and select 3 attributes\n",
    "rfe = RFE(model, 1)\n",
    "rfe = rfe.fit(X_train, y_train)\n",
    "\n",
    "credit_card_columns = credit_card.columns.tolist()\n",
    "\n",
    "rfe.ranking_ = rfe.ranking_.tolist()\n",
    "\n",
    "for i in rfe.ranking_:\n",
    "    for i in range(1,6):\n",
    "        print(i, \": \", credit_card_columns[rfe.ranking_.index(i)])\n",
    "    break"
   ]
  },
  {
   "cell_type": "markdown",
   "metadata": {},
   "source": [
    "## Random Forest Classifier"
   ]
  },
  {
   "cell_type": "code",
   "execution_count": 22,
   "metadata": {},
   "outputs": [
    {
     "name": "stderr",
     "output_type": "stream",
     "text": [
      "/opt/conda/lib/python3.7/site-packages/sklearn/ensemble/forest.py:245: FutureWarning: The default value of n_estimators will change from 10 in version 0.20 to 100 in 0.22.\n",
      "  \"10 in version 0.20 to 100 in 0.22.\", FutureWarning)\n"
     ]
    },
    {
     "name": "stdout",
     "output_type": "stream",
     "text": [
      "Train Accuracy ::  0.980115990057995\n",
      "Test Accuracy  ::  0.7961283571677712\n",
      "F1 Score  ::  0.4140350877192982\n"
     ]
    }
   ],
   "source": [
    "# Define X and y \n",
    "y = credit_card.iloc[:,18] \n",
    "X = credit_card.iloc[:,0:18] \n",
    "\n",
    "X_train, X_valid, y_train, y_valid = train_test_split(X, y, train_size=0.8, test_size=0.2,\n",
    "                                                      random_state=0)\n",
    "rfc = RandomForestClassifier(random_state=1)\n",
    "rfc.fit(X_train, y_train)\n",
    "y_predict = rfc.predict(X_valid)\n",
    "\n",
    "# Train and Test Accuracy   \n",
    "print(\"Train Accuracy :: \", accuracy_score(y_train, rfc.predict(X_train)))\n",
    "print(\"Test Accuracy  :: \", accuracy_score(y_valid, y_predict))\n",
    "\n",
    "# calculation of f1 score\n",
    "print(\"F1 Score  :: \", f1_score(y_valid, y_predict))"
   ]
  },
  {
   "cell_type": "markdown",
   "metadata": {},
   "source": [
    "### Optimizing model's parameters"
   ]
  },
  {
   "cell_type": "code",
   "execution_count": 20,
   "metadata": {},
   "outputs": [
    {
     "name": "stdout",
     "output_type": "stream",
     "text": [
      "Parameters currently in use:\n",
      "\n",
      "{'bootstrap': True, 'class_weight': None, 'criterion': 'gini', 'max_depth': None, 'max_features': 'auto', 'max_leaf_nodes': None, 'min_impurity_decrease': 0.0, 'min_impurity_split': None, 'min_samples_leaf': 1, 'min_samples_split': 2, 'min_weight_fraction_leaf': 0.0, 'n_estimators': 10, 'n_jobs': None, 'oob_score': False, 'random_state': 1, 'verbose': 0, 'warm_start': False}\n"
     ]
    }
   ],
   "source": [
    "# Look at the parameters used by our current forest\n",
    "print('Parameters currently in use:\\n')\n",
    "print(rfc.get_params())"
   ]
  },
  {
   "cell_type": "markdown",
   "metadata": {},
   "source": [
    "<img src=\"./RFC Model Tunning.JPG\" width=\"1000\" height=\"1000\" />"
   ]
  },
  {
   "cell_type": "markdown",
   "metadata": {},
   "source": [
    "<img src=\"RFC Model Tunning_Output.jpg\" width=\"1000\" height=\"1000\" />"
   ]
  },
  {
   "cell_type": "markdown",
   "metadata": {},
   "source": [
    "We ran the above code to find the best parameters for our model using RandomizedSearchCV. As the kernel kept dying when we ran it in Jupyter, we decided to run it in Python instead. As shown above are the codes we used and the output we obtained."
   ]
  },
  {
   "cell_type": "code",
   "execution_count": 21,
   "metadata": {},
   "outputs": [
    {
     "name": "stdout",
     "output_type": "stream",
     "text": [
      "Train Accuracy : 0.8468146339336328\n",
      "Test Accuracy  :  0.8137425880711545\n",
      "F1 Score  ::  0.47492625368731567\n"
     ]
    }
   ],
   "source": [
    "rfc = RandomForestClassifier(n_estimators = 1000, min_samples_split = 10, min_samples_leaf = 2, max_features = 'sqrt', max_depth = 10, bootstrap = True)\n",
    "rfc.fit(X_train, y_train)\n",
    "y_predict = rfc.predict(X_valid)\n",
    "\n",
    "# calculation of accuracy score\n",
    "print(\"Train Accuracy :\", accuracy_score(y_train, rfc.predict(X_train)))\n",
    "print(\"Test Accuracy  : \", accuracy_score(y_valid, y_predict))\n",
    "\n",
    "# calculation of f1 score\n",
    "print(\"F1 Score  :: \", f1_score(y_valid, y_predict))"
   ]
  },
  {
   "cell_type": "markdown",
   "metadata": {},
   "source": [
    "Increase in both test accuracy and F1 score is observed (especially F1 score)."
   ]
  },
  {
   "cell_type": "markdown",
   "metadata": {},
   "source": [
    "### Feature reduction to further improve model's performance"
   ]
  },
  {
   "cell_type": "code",
   "execution_count": 25,
   "metadata": {},
   "outputs": [
    {
     "data": {
      "image/png": "[encoded data removed]",
      "text/plain": [
       "<Figure size 432x288 with 1 Axes>"
      ]
     },
     "metadata": {
      "needs_background": "light"
     },
     "output_type": "display_data"
    }
   ],
   "source": [
    "features = ['GENDER', 'LIMIT_BAL', 'EDUCATION', 'MARRIAGE', 'AGE', 'PAY_1', 'PAY_2',\n",
    "       'PAY_3', 'PAY_4', 'PAY_5', 'PAY_6', 'BILL_AMT4', 'PAY_AMT1', 'PAY_AMT2',\n",
    "       'PAY_AMT3', 'PAY_AMT4', 'PAY_AMT5', 'PAY_AMT6']\n",
    "\n",
    "importances = rfc.feature_importances_\n",
    "indices = np.argsort(importances)\n",
    "\n",
    "plt.title('Feature Importances')\n",
    "plt.barh(range(len(indices)), importances[indices], color='black', align='center')\n",
    "plt.yticks(range(len(indices)), [features[i] for i in indices])\n",
    "plt.xlabel('Relative Importance')\n",
    "plt.show()"
   ]
  },
  {
   "cell_type": "markdown",
   "metadata": {},
   "source": [
    "#### Drop PAY_6 (lowest relative importance value)"
   ]
  },
  {
   "cell_type": "code",
   "execution_count": 26,
   "metadata": {},
   "outputs": [
    {
     "name": "stdout",
     "output_type": "stream",
     "text": [
      "Train Accuracy : 0.8484280294771727\n",
      "Test Accuracy  :  0.8128705964422741\n",
      "F1 Score  ::  0.46802181457610315\n"
     ]
    }
   ],
   "source": [
    "credit_card1 = credit_card.drop(['PAY_6'], axis=1)\n",
    "\n",
    "# Define X and y \n",
    "y = credit_card1.iloc[:,17] \n",
    "X = credit_card1.iloc[:,0:17] \n",
    "\n",
    "# split the dataset \n",
    "X_train, X_valid, y_train, y_valid = train_test_split(X, y, train_size=0.8, test_size=0.2,\n",
    "                                                      random_state=0)\n",
    "\n",
    "rfc = RandomForestClassifier(n_estimators = 1000, min_samples_split = 10, min_samples_leaf = 2, max_features = 'sqrt', max_depth = 10, bootstrap = True)\n",
    "rfc.fit(X_train, y_train)\n",
    "y_predict = rfc.predict(X_valid)\n",
    "\n",
    "# calculation of acurracy score\n",
    "print(\"Train Accuracy :\", accuracy_score(y_train, rfc.predict(X_train)))\n",
    "print(\"Test Accuracy  : \", accuracy_score(y_valid, y_predict))\n",
    "\n",
    "# calculation of f1 score\n",
    "print(\"F1 Score  :: \", f1_score(y_valid, y_predict))"
   ]
  },
  {
   "cell_type": "markdown",
   "metadata": {},
   "source": [
    "#### Since a drop in both accuracy and F1 score is observed when we perform feature reduction, we decided to not drop any columns."
   ]
  },
  {
   "cell_type": "markdown",
   "metadata": {},
   "source": [
    "### Resampling to improve F1 score"
   ]
  },
  {
   "cell_type": "code",
   "execution_count": 27,
   "metadata": {},
   "outputs": [
    {
     "data": {
      "text/html": [
       "<div>\n",
       "<style scoped>\n",
       "    .dataframe tbody tr th:only-of-type {\n",
       "        vertical-align: middle;\n",
       "    }\n",
       "\n",
       "    .dataframe tbody tr th {\n",
       "        vertical-align: top;\n",
       "    }\n",
       "\n",
       "    .dataframe thead th {\n",
       "        text-align: right;\n",
       "    }\n",
       "</style>\n",
       "<table border=\"1\" class=\"dataframe\">\n",
       "  <thead>\n",
       "    <tr style=\"text-align: right;\">\n",
       "      <th></th>\n",
       "      <th>GENDER</th>\n",
       "      <th>LIMIT_BAL</th>\n",
       "      <th>EDUCATION</th>\n",
       "      <th>MARRIAGE</th>\n",
       "      <th>AGE</th>\n",
       "      <th>PAY_1</th>\n",
       "      <th>PAY_2</th>\n",
       "      <th>PAY_3</th>\n",
       "      <th>PAY_4</th>\n",
       "      <th>PAY_5</th>\n",
       "      <th>PAY_6</th>\n",
       "      <th>BILL_AMT4</th>\n",
       "      <th>PAY_AMT1</th>\n",
       "      <th>PAY_AMT2</th>\n",
       "      <th>PAY_AMT3</th>\n",
       "      <th>PAY_AMT4</th>\n",
       "      <th>PAY_AMT5</th>\n",
       "      <th>PAY_AMT6</th>\n",
       "      <th>default payment next month</th>\n",
       "    </tr>\n",
       "  </thead>\n",
       "  <tbody>\n",
       "    <tr>\n",
       "      <td>0</td>\n",
       "      <td>2</td>\n",
       "      <td>0.291139</td>\n",
       "      <td>2</td>\n",
       "      <td>1</td>\n",
       "      <td>42</td>\n",
       "      <td>-1</td>\n",
       "      <td>-1</td>\n",
       "      <td>-1</td>\n",
       "      <td>-1</td>\n",
       "      <td>-1</td>\n",
       "      <td>-1</td>\n",
       "      <td>0.123604</td>\n",
       "      <td>0.000000</td>\n",
       "      <td>0.002613</td>\n",
       "      <td>0.006796</td>\n",
       "      <td>0.000000</td>\n",
       "      <td>0.003900</td>\n",
       "      <td>0.010085</td>\n",
       "      <td>0</td>\n",
       "    </tr>\n",
       "    <tr>\n",
       "      <td>1</td>\n",
       "      <td>2</td>\n",
       "      <td>0.164557</td>\n",
       "      <td>2</td>\n",
       "      <td>1</td>\n",
       "      <td>26</td>\n",
       "      <td>0</td>\n",
       "      <td>0</td>\n",
       "      <td>0</td>\n",
       "      <td>2</td>\n",
       "      <td>2</td>\n",
       "      <td>2</td>\n",
       "      <td>0.198618</td>\n",
       "      <td>0.227278</td>\n",
       "      <td>0.024899</td>\n",
       "      <td>0.000000</td>\n",
       "      <td>0.036145</td>\n",
       "      <td>0.000000</td>\n",
       "      <td>0.053191</td>\n",
       "      <td>0</td>\n",
       "    </tr>\n",
       "    <tr>\n",
       "      <td>2</td>\n",
       "      <td>2</td>\n",
       "      <td>0.443038</td>\n",
       "      <td>1</td>\n",
       "      <td>2</td>\n",
       "      <td>30</td>\n",
       "      <td>0</td>\n",
       "      <td>0</td>\n",
       "      <td>0</td>\n",
       "      <td>0</td>\n",
       "      <td>0</td>\n",
       "      <td>0</td>\n",
       "      <td>0.122080</td>\n",
       "      <td>0.000000</td>\n",
       "      <td>0.000000</td>\n",
       "      <td>0.000000</td>\n",
       "      <td>0.000000</td>\n",
       "      <td>0.000000</td>\n",
       "      <td>0.000000</td>\n",
       "      <td>0</td>\n",
       "    </tr>\n",
       "    <tr>\n",
       "      <td>3</td>\n",
       "      <td>1</td>\n",
       "      <td>0.025316</td>\n",
       "      <td>2</td>\n",
       "      <td>1</td>\n",
       "      <td>49</td>\n",
       "      <td>0</td>\n",
       "      <td>0</td>\n",
       "      <td>2</td>\n",
       "      <td>2</td>\n",
       "      <td>0</td>\n",
       "      <td>0</td>\n",
       "      <td>0.160407</td>\n",
       "      <td>0.041933</td>\n",
       "      <td>0.008269</td>\n",
       "      <td>0.000000</td>\n",
       "      <td>0.007096</td>\n",
       "      <td>0.009330</td>\n",
       "      <td>0.015957</td>\n",
       "      <td>0</td>\n",
       "    </tr>\n",
       "    <tr>\n",
       "      <td>4</td>\n",
       "      <td>2</td>\n",
       "      <td>0.227848</td>\n",
       "      <td>2</td>\n",
       "      <td>1</td>\n",
       "      <td>34</td>\n",
       "      <td>1</td>\n",
       "      <td>0</td>\n",
       "      <td>0</td>\n",
       "      <td>0</td>\n",
       "      <td>0</td>\n",
       "      <td>0</td>\n",
       "      <td>0.122036</td>\n",
       "      <td>0.000000</td>\n",
       "      <td>0.000000</td>\n",
       "      <td>0.000000</td>\n",
       "      <td>0.000000</td>\n",
       "      <td>0.000000</td>\n",
       "      <td>0.000000</td>\n",
       "      <td>0</td>\n",
       "    </tr>\n",
       "    <tr>\n",
       "      <td>...</td>\n",
       "      <td>...</td>\n",
       "      <td>...</td>\n",
       "      <td>...</td>\n",
       "      <td>...</td>\n",
       "      <td>...</td>\n",
       "      <td>...</td>\n",
       "      <td>...</td>\n",
       "      <td>...</td>\n",
       "      <td>...</td>\n",
       "      <td>...</td>\n",
       "      <td>...</td>\n",
       "      <td>...</td>\n",
       "      <td>...</td>\n",
       "      <td>...</td>\n",
       "      <td>...</td>\n",
       "      <td>...</td>\n",
       "      <td>...</td>\n",
       "      <td>...</td>\n",
       "      <td>...</td>\n",
       "    </tr>\n",
       "    <tr>\n",
       "      <td>22928</td>\n",
       "      <td>2</td>\n",
       "      <td>0.000000</td>\n",
       "      <td>2</td>\n",
       "      <td>2</td>\n",
       "      <td>28</td>\n",
       "      <td>0</td>\n",
       "      <td>0</td>\n",
       "      <td>0</td>\n",
       "      <td>0</td>\n",
       "      <td>0</td>\n",
       "      <td>-1</td>\n",
       "      <td>0.145865</td>\n",
       "      <td>0.013955</td>\n",
       "      <td>0.008269</td>\n",
       "      <td>0.002118</td>\n",
       "      <td>0.019241</td>\n",
       "      <td>0.017647</td>\n",
       "      <td>0.012596</td>\n",
       "      <td>0</td>\n",
       "    </tr>\n",
       "    <tr>\n",
       "      <td>22929</td>\n",
       "      <td>1</td>\n",
       "      <td>0.189873</td>\n",
       "      <td>2</td>\n",
       "      <td>2</td>\n",
       "      <td>30</td>\n",
       "      <td>0</td>\n",
       "      <td>0</td>\n",
       "      <td>0</td>\n",
       "      <td>0</td>\n",
       "      <td>0</td>\n",
       "      <td>0</td>\n",
       "      <td>0.347269</td>\n",
       "      <td>0.085695</td>\n",
       "      <td>0.045482</td>\n",
       "      <td>0.045161</td>\n",
       "      <td>0.036530</td>\n",
       "      <td>0.049363</td>\n",
       "      <td>0.027755</td>\n",
       "      <td>0</td>\n",
       "    </tr>\n",
       "    <tr>\n",
       "      <td>22930</td>\n",
       "      <td>2</td>\n",
       "      <td>0.025316</td>\n",
       "      <td>3</td>\n",
       "      <td>1</td>\n",
       "      <td>35</td>\n",
       "      <td>0</td>\n",
       "      <td>0</td>\n",
       "      <td>0</td>\n",
       "      <td>0</td>\n",
       "      <td>0</td>\n",
       "      <td>0</td>\n",
       "      <td>0.176431</td>\n",
       "      <td>0.034092</td>\n",
       "      <td>0.025652</td>\n",
       "      <td>0.032344</td>\n",
       "      <td>0.037783</td>\n",
       "      <td>0.013612</td>\n",
       "      <td>0.000000</td>\n",
       "      <td>0</td>\n",
       "    </tr>\n",
       "    <tr>\n",
       "      <td>22931</td>\n",
       "      <td>1</td>\n",
       "      <td>0.012658</td>\n",
       "      <td>2</td>\n",
       "      <td>1</td>\n",
       "      <td>45</td>\n",
       "      <td>4</td>\n",
       "      <td>3</td>\n",
       "      <td>2</td>\n",
       "      <td>0</td>\n",
       "      <td>0</td>\n",
       "      <td>0</td>\n",
       "      <td>0.169352</td>\n",
       "      <td>0.000000</td>\n",
       "      <td>0.000000</td>\n",
       "      <td>0.000000</td>\n",
       "      <td>0.000000</td>\n",
       "      <td>0.004936</td>\n",
       "      <td>0.000000</td>\n",
       "      <td>0</td>\n",
       "    </tr>\n",
       "    <tr>\n",
       "      <td>22932</td>\n",
       "      <td>2</td>\n",
       "      <td>0.050633</td>\n",
       "      <td>1</td>\n",
       "      <td>2</td>\n",
       "      <td>25</td>\n",
       "      <td>0</td>\n",
       "      <td>0</td>\n",
       "      <td>0</td>\n",
       "      <td>0</td>\n",
       "      <td>0</td>\n",
       "      <td>0</td>\n",
       "      <td>0.155033</td>\n",
       "      <td>0.014773</td>\n",
       "      <td>0.012404</td>\n",
       "      <td>0.005376</td>\n",
       "      <td>0.012048</td>\n",
       "      <td>0.012341</td>\n",
       "      <td>0.010638</td>\n",
       "      <td>0</td>\n",
       "    </tr>\n",
       "  </tbody>\n",
       "</table>\n",
       "<p>22933 rows × 19 columns</p>\n",
       "</div>"
      ],
      "text/plain": [
       "       GENDER  LIMIT_BAL  EDUCATION  MARRIAGE  AGE  PAY_1  PAY_2  PAY_3  \\\n",
       "0           2   0.291139          2         1   42     -1     -1     -1   \n",
       "1           2   0.164557          2         1   26      0      0      0   \n",
       "2           2   0.443038          1         2   30      0      0      0   \n",
       "3           1   0.025316          2         1   49      0      0      2   \n",
       "4           2   0.227848          2         1   34      1      0      0   \n",
       "...       ...        ...        ...       ...  ...    ...    ...    ...   \n",
       "22928       2   0.000000          2         2   28      0      0      0   \n",
       "22929       1   0.189873          2         2   30      0      0      0   \n",
       "22930       2   0.025316          3         1   35      0      0      0   \n",
       "22931       1   0.012658          2         1   45      4      3      2   \n",
       "22932       2   0.050633          1         2   25      0      0      0   \n",
       "\n",
       "       PAY_4  PAY_5  PAY_6  BILL_AMT4  PAY_AMT1  PAY_AMT2  PAY_AMT3  PAY_AMT4  \\\n",
       "0         -1     -1     -1   0.123604  0.000000  0.002613  0.006796  0.000000   \n",
       "1          2      2      2   0.198618  0.227278  0.024899  0.000000  0.036145   \n",
       "2          0      0      0   0.122080  0.000000  0.000000  0.000000  0.000000   \n",
       "3          2      0      0   0.160407  0.041933  0.008269  0.000000  0.007096   \n",
       "4          0      0      0   0.122036  0.000000  0.000000  0.000000  0.000000   \n",
       "...      ...    ...    ...        ...       ...       ...       ...       ...   \n",
       "22928      0      0     -1   0.145865  0.013955  0.008269  0.002118  0.019241   \n",
       "22929      0      0      0   0.347269  0.085695  0.045482  0.045161  0.036530   \n",
       "22930      0      0      0   0.176431  0.034092  0.025652  0.032344  0.037783   \n",
       "22931      0      0      0   0.169352  0.000000  0.000000  0.000000  0.000000   \n",
       "22932      0      0      0   0.155033  0.014773  0.012404  0.005376  0.012048   \n",
       "\n",
       "       PAY_AMT5  PAY_AMT6  default payment next month  \n",
       "0      0.003900  0.010085                           0  \n",
       "1      0.000000  0.053191                           0  \n",
       "2      0.000000  0.000000                           0  \n",
       "3      0.009330  0.015957                           0  \n",
       "4      0.000000  0.000000                           0  \n",
       "...         ...       ...                         ...  \n",
       "22928  0.017647  0.012596                           0  \n",
       "22929  0.049363  0.027755                           0  \n",
       "22930  0.013612  0.000000                           0  \n",
       "22931  0.004936  0.000000                           0  \n",
       "22932  0.012341  0.010638                           0  \n",
       "\n",
       "[22933 rows x 19 columns]"
      ]
     },
     "execution_count": 27,
     "metadata": {},
     "output_type": "execute_result"
    }
   ],
   "source": [
    "# Define X and y \n",
    "y = credit_card.iloc[:,18] \n",
    "X = credit_card.iloc[:,0:18] \n",
    "\n",
    "# split the dataset \n",
    "X_train, X_valid, y_train, y_valid = train_test_split(X, y, train_size=0.8, test_size=0.2,\n",
    "                                                      random_state=0)\n",
    "\n",
    "# obtain the training set \n",
    "\n",
    "X_train = pd.DataFrame(X_train)\n",
    "X_train = X_train.reset_index()\n",
    "X_train = X_train.drop(['index'],axis=1)\n",
    "\n",
    "y_train = pd.DataFrame(y_train)\n",
    "y_train = y_train.reset_index()\n",
    "y_train = y_train.drop(['index'],axis=1)\n",
    "\n",
    "training_set = pd.concat([X_train, y_train], axis=1)\n",
    "training_set"
   ]
  },
  {
   "cell_type": "code",
   "execution_count": 28,
   "metadata": {},
   "outputs": [
    {
     "data": {
      "text/plain": [
       "0    17789\n",
       "1     5144\n",
       "Name: default payment next month, dtype: int64"
      ]
     },
     "execution_count": 28,
     "metadata": {},
     "output_type": "execute_result"
    }
   ],
   "source": [
    "training_set['default payment next month'].value_counts()"
   ]
  },
  {
   "cell_type": "code",
   "execution_count": 31,
   "metadata": {},
   "outputs": [
    {
     "data": {
      "text/plain": [
       "1    17789\n",
       "0    17789\n",
       "Name: default payment next month, dtype: int64"
      ]
     },
     "execution_count": 31,
     "metadata": {},
     "output_type": "execute_result"
    }
   ],
   "source": [
    "# Separate majority and minority classes\n",
    "training_set_majority = training_set[training_set['default payment next month'] == 0]\n",
    "training_set_minority = training_set[training_set['default payment next month'] == 1]\n",
    "\n",
    "# Upsample minority class\n",
    "training_set_minority_upsampled = resample(training_set_minority, \n",
    "                                 replace=True,     # sample with replacement\n",
    "                                 n_samples=17789,    # to match majority class\n",
    "                                 random_state=123) # reproducible results\n",
    " \n",
    "# Combine majority class with upsampled minority class\n",
    "credit_card_upsampled = pd.concat([training_set_majority, training_set_minority_upsampled])\n",
    " \n",
    "# Display new class counts\n",
    "credit_card_upsampled['default payment next month'].value_counts()"
   ]
  },
  {
   "cell_type": "code",
   "execution_count": 32,
   "metadata": {},
   "outputs": [
    {
     "name": "stdout",
     "output_type": "stream",
     "text": [
      "Train Accuracy : 0.7799763899038732\n",
      "Test Accuracy  :  0.7785141262643879\n",
      "F1 Score  ::  0.5358187134502924\n"
     ]
    }
   ],
   "source": [
    "# Redefine X_train and y_train\n",
    "\n",
    "y_train = credit_card_upsampled.iloc[:,18]\n",
    "X_train = credit_card_upsampled.iloc[:,0:18]\n",
    "\n",
    "# train the model\n",
    "rfc = RandomForestClassifier(n_estimators = 1000, min_samples_split = 10, min_samples_leaf = 2, max_features = 'sqrt', max_depth = 10, bootstrap = True)\n",
    "rfc.fit(X_train, y_train)\n",
    "y_predict = rfc.predict(X_valid)\n",
    "\n",
    "# calculation of accuracy score\n",
    "print(\"Train Accuracy :\", accuracy_score(y_train, rfc.predict(X_train)))\n",
    "print(\"Test Accuracy  : \", accuracy_score(y_valid, y_predict))\n",
    "\n",
    "# calculation of f1 score\n",
    "print(\"F1 Score  :: \", f1_score(y_valid, y_predict))"
   ]
  },
  {
   "cell_type": "markdown",
   "metadata": {},
   "source": [
    "Drop in accuracy level by approx. 7% and increase in f1_score by approx. 7%."
   ]
  },
  {
   "cell_type": "markdown",
   "metadata": {},
   "source": [
    "### Model Evaluation"
   ]
  },
  {
   "cell_type": "code",
   "execution_count": 33,
   "metadata": {},
   "outputs": [
    {
     "name": "stdout",
     "output_type": "stream",
     "text": [
      "Train Accuracy : 0.7799763899038732\n",
      "Test Accuracy  :  0.7785141262643879\n",
      "F1 Score  ::  0.5358187134502924\n"
     ]
    }
   ],
   "source": [
    "# calculation of accuracy score\n",
    "print(\"Train Accuracy :\", accuracy_score(y_train, rfc.predict(X_train)))\n",
    "print(\"Test Accuracy  : \", accuracy_score(y_valid, y_predict))\n",
    "\n",
    "# calculation of f1 score\n",
    "print(\"F1 Score  :: \", f1_score(y_valid, y_predict))"
   ]
  },
  {
   "cell_type": "code",
   "execution_count": 34,
   "metadata": {},
   "outputs": [
    {
     "name": "stdout",
     "output_type": "stream",
     "text": [
      "Trained model in 34.1752 seconds\n"
     ]
    }
   ],
   "source": [
    "start = time()\n",
    "rfc = RandomForestClassifier(n_estimators = 1000, min_samples_split = 10, min_samples_leaf = 2, max_features = 'sqrt', max_depth = 10, bootstrap = True)\n",
    "rfc.fit(X_train, y_train)\n",
    "end = time()\n",
    "print(\"Trained model in {:.4f} seconds\".format(end - start))"
   ]
  },
  {
   "cell_type": "code",
   "execution_count": 35,
   "metadata": {},
   "outputs": [
    {
     "name": "stdout",
     "output_type": "stream",
     "text": [
      "Made predictions in 0.9056 seconds.\n"
     ]
    }
   ],
   "source": [
    "start = time()\n",
    "y_predict = rfc.predict(X_valid)\n",
    "end = time()\n",
    "print(\"Made predictions in {:.4f} seconds.\".format(end - start))"
   ]
  },
  {
   "cell_type": "code",
   "execution_count": 36,
   "metadata": {},
   "outputs": [
    {
     "data": {
      "image/png": "[encoded data removed]",
      "text/plain": [
       "<Figure size 432x288 with 2 Axes>"
      ]
     },
     "metadata": {
      "needs_background": "light"
     },
     "output_type": "display_data"
    },
    {
     "name": "stdout",
     "output_type": "stream",
     "text": [
      "Predicted     0    1\n",
      "Actual              \n",
      "0          3729  692\n",
      "1           585  728\n"
     ]
    }
   ],
   "source": [
    "# confusion matrix\n",
    "\n",
    "ax= plt.subplot()\n",
    "confusion_matrix = pd.crosstab(y_valid, y_predict, rownames=['Actual'], colnames=['Predicted'])\n",
    "sn.heatmap(confusion_matrix, cmap=\"Blues\")\n",
    "    \n",
    "#change the labels\n",
    "ax.set_xlabel('Predicted Status')\n",
    "ax.set_ylabel('Actual Status')\n",
    "ax.set_title('RFC Confusion Matrix')\n",
    "plt.savefig('RFC_confusion_matrix.jpg', bbox_inches=\"tight\")\n",
    "plt.show()\n",
    "\n",
    "print(confusion_matrix)"
   ]
  },
  {
   "cell_type": "code",
   "execution_count": 38,
   "metadata": {},
   "outputs": [
    {
     "name": "stdout",
     "output_type": "stream",
     "text": [
      "Accuracy:  0.7772933379839554\n",
      "Misclassification Rate:  0.22270666201604464\n",
      "True Positive Rate:  0.5544554455445545\n",
      "False Positive Rate:  0.15652567292467767\n",
      "True Negative Rate (Specificity):  0.8434743270753223\n",
      "Precision:  0.5126760563380282\n",
      "Prevalence:  0.22898500174398326\n",
      "              precision    recall  f1-score   support\n",
      "\n",
      "           0       0.86      0.84      0.85      4421\n",
      "           1       0.51      0.55      0.53      1313\n",
      "\n",
      "    accuracy                           0.78      5734\n",
      "   macro avg       0.69      0.70      0.69      5734\n",
      "weighted avg       0.78      0.78      0.78      5734\n",
      "\n"
     ]
    }
   ],
   "source": [
    "TN = 3729\n",
    "TP = 728\n",
    "FN = 585\n",
    "FP = 692\n",
    "\n",
    "total = TN + TP + FN + FP\n",
    "actual0 = TN + FP\n",
    "actual1 = TP + FN\n",
    "predicted1 = TP + FP\n",
    "\n",
    "print(\"Accuracy: \", (TP+TN)/total)\n",
    "print(\"Misclassification Rate: \",(FP+FN)/total)\n",
    "print(\"True Positive Rate: \",TP/actual1)\n",
    "print(\"False Positive Rate: \",FP/actual0)\n",
    "print(\"True Negative Rate (Specificity): \",TN/actual0)\n",
    "print(\"Precision: \", TP/predicted1)\n",
    "print(\"Prevalence: \", actual1/total)\n",
    "\n",
    "print(classification_report(y_valid, y_predict))"
   ]
  },
  {
   "cell_type": "code",
   "execution_count": 39,
   "metadata": {},
   "outputs": [
    {
     "data": {
      "image/png": "[encoded data removed]",
      "text/plain": [
       "<Figure size 432x288 with 1 Axes>"
      ]
     },
     "metadata": {
      "needs_background": "light"
     },
     "output_type": "display_data"
    }
   ],
   "source": [
    "features = ['GENDER', 'LIMIT_BAL', 'EDUCATION', 'MARRIAGE', 'AGE', 'PAY_1', 'PAY_2',\n",
    "       'PAY_3', 'PAY_4', 'PAY_5', 'PAY_6', 'BILL_AMT4', 'PAY_AMT1', 'PAY_AMT2',\n",
    "       'PAY_AMT3', 'PAY_AMT4', 'PAY_AMT5', 'PAY_AMT6']\n",
    "\n",
    "importances = rfc.feature_importances_\n",
    "indices = np.argsort(importances)\n",
    "\n",
    "plt.title('Feature Importances')\n",
    "plt.barh(range(len(indices)), importances[indices], color='black', align='center')\n",
    "plt.yticks(range(len(indices)), [features[i] for i in indices])\n",
    "plt.xlabel('Relative Importance')\n",
    "plt.savefig('RFC_feature_importance.jpg', bbox_inches=\"tight\")\n",
    "plt.show()"
   ]
  },
  {
   "cell_type": "markdown",
   "metadata": {},
   "source": [
    "Top 5 Features: PAY_1, PAY_2, PAY_3, PAY_AMT1, LIMIT_BAL\n",
    "\n",
    "Based on this model, PAY_1, repayment status of the month before (for September) has the greatest (significantly greater) influence on the default payment status of the following month (for October)."
   ]
  }
 ],
 "metadata": {
  "kernelspec": {
   "display_name": "Python 3",
   "language": "python",
   "name": "python3"
  },
  "language_info": {
   "codemirror_mode": {
    "name": "ipython",
    "version": 3
   },
   "file_extension": ".py",
   "mimetype": "text/x-python",
   "name": "python",
   "nbconvert_exporter": "python",
   "pygments_lexer": "ipython3",
   "version": "3.7.3"
  }
 },
 "nbformat": 4,
 "nbformat_minor": 2
}
